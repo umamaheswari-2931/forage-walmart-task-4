{
 "cells": [
  {
   "cell_type": "code",
   "execution_count": 1,
   "id": "96ea14c2",
   "metadata": {},
   "outputs": [],
   "source": [
    "import csv\n",
    "import sqlite3"
   ]
  },
  {
   "cell_type": "code",
   "execution_count": 5,
   "id": "3cd80834",
   "metadata": {},
   "outputs": [],
   "source": [
    "def create_tables(cursor):\n",
    "    cursor.execute(\"\"\"\n",
    "        CREATE TABLE IF NOT EXISTS shipping_data_0 (\n",
    "            origin_warehouse TEXT,\n",
    "            destination_store TEXT,\n",
    "            product TEXT,\n",
    "            on_time TEXT,\n",
    "            product_quantity INTEGER,\n",
    "            driver_identifier TEXT\n",
    "        )\n",
    "    \"\"\")\n",
    "    cursor.execute(\"\"\"\n",
    "        CREATE TABLE IF NOT EXISTS shipping_data_1 (\n",
    "            shipment_identifier TEXT,\n",
    "            product TEXT,\n",
    "            on_time TEXT,\n",
    "            origin_warehouse TEXT,\n",
    "            destination_store TEXT\n",
    "        )\n",
    "    \"\"\")\n"
   ]
  },
  {
   "cell_type": "code",
   "execution_count": 6,
   "id": "2bf3787b",
   "metadata": {},
   "outputs": [],
   "source": [
    "def insert_shipping_data_0(cursor):\n",
    "    with open('data/shipping_data_0.csv', 'r') as file:\n",
    "        csv_reader = csv.reader(file)\n",
    "        next(csv_reader)\n",
    "        for row in csv_reader:\n",
    "            origin_warehouse, destination_store, product, on_time, product_quantity, driver_identifier = row\n",
    "            cursor.execute(\"INSERT INTO shipping_data_0 (origin_warehouse, destination_store, product,\n",
    "                           on_time, product_quantity, driver_identifier) VALUES (?, ?, ?, ?, ?, ?)\",\n",
    "                           (origin_warehouse, destination_store, product, on_time, product_quantity, driver_identifier))"
   ]
  },
  {
   "cell_type": "code",
   "execution_count": 10,
   "id": "b3feb1b2",
   "metadata": {},
   "outputs": [
    {
     "ename": "OperationalError",
     "evalue": "database is locked",
     "output_type": "error",
     "traceback": [
      "\u001b[1;31m---------------------------------------------------------------------------\u001b[0m",
      "\u001b[1;31mOperationalError\u001b[0m                          Traceback (most recent call last)",
      "\u001b[1;32m~\\AppData\\Local\\Temp\\ipykernel_6080\\3881683824.py\u001b[0m in \u001b[0;36m<module>\u001b[1;34m\u001b[0m\n\u001b[0;32m     22\u001b[0m     \u001b[0mcreate_tables\u001b[0m\u001b[1;33m(\u001b[0m\u001b[0mcursor\u001b[0m\u001b[1;33m)\u001b[0m  \u001b[1;31m# Create the necessary tables\u001b[0m\u001b[1;33m\u001b[0m\u001b[1;33m\u001b[0m\u001b[0m\n\u001b[0;32m     23\u001b[0m \u001b[1;33m\u001b[0m\u001b[0m\n\u001b[1;32m---> 24\u001b[1;33m     \u001b[0minsert_shipping_data_0\u001b[0m\u001b[1;33m(\u001b[0m\u001b[0mcursor\u001b[0m\u001b[1;33m)\u001b[0m\u001b[1;33m\u001b[0m\u001b[1;33m\u001b[0m\u001b[0m\n\u001b[0m\u001b[0;32m     25\u001b[0m     \u001b[0minsert_shipping_data_2\u001b[0m\u001b[1;33m(\u001b[0m\u001b[0mcursor\u001b[0m\u001b[1;33m)\u001b[0m\u001b[1;33m\u001b[0m\u001b[1;33m\u001b[0m\u001b[0m\n\u001b[0;32m     26\u001b[0m \u001b[1;33m\u001b[0m\u001b[0m\n",
      "\u001b[1;32m~\\AppData\\Local\\Temp\\ipykernel_6080\\2285741590.py\u001b[0m in \u001b[0;36minsert_shipping_data_0\u001b[1;34m(cursor)\u001b[0m\n\u001b[0;32m      5\u001b[0m         \u001b[1;32mfor\u001b[0m \u001b[0mrow\u001b[0m \u001b[1;32min\u001b[0m \u001b[0mcsv_reader\u001b[0m\u001b[1;33m:\u001b[0m\u001b[1;33m\u001b[0m\u001b[1;33m\u001b[0m\u001b[0m\n\u001b[0;32m      6\u001b[0m             \u001b[0morigin_warehouse\u001b[0m\u001b[1;33m,\u001b[0m \u001b[0mdestination_store\u001b[0m\u001b[1;33m,\u001b[0m \u001b[0mproduct\u001b[0m\u001b[1;33m,\u001b[0m \u001b[0mon_time\u001b[0m\u001b[1;33m,\u001b[0m \u001b[0mproduct_quantity\u001b[0m\u001b[1;33m,\u001b[0m \u001b[0mdriver_identifier\u001b[0m \u001b[1;33m=\u001b[0m \u001b[0mrow\u001b[0m\u001b[1;33m\u001b[0m\u001b[1;33m\u001b[0m\u001b[0m\n\u001b[1;32m----> 7\u001b[1;33m             cursor.execute(\"INSERT INTO shipping_data_0 (origin_warehouse, destination_store, product, on_time, product_quantity, driver_identifier) VALUES (?, ?, ?, ?, ?, ?)\",\n\u001b[0m\u001b[0;32m      8\u001b[0m                            (origin_warehouse, destination_store, product, on_time, product_quantity, driver_identifier))\n",
      "\u001b[1;31mOperationalError\u001b[0m: database is locked"
     ]
    }
   ],
   "source": [
    "def insert_shipping_data_2(cursor):\n",
    "    with open('data/shipping_data_2.csv', 'r') as file:\n",
    "        csv_reader = csv.reader(file)\n",
    "        next(csv_reader)\n",
    "        shipping_data_2_rows = [row for row in csv_reader]\n",
    "\n",
    "    with open('data/shipping_data_1.csv', 'r') as file:\n",
    "        csv_reader = csv.reader(file)\n",
    "        next(csv_reader)\n",
    "        for row in csv_reader:\n",
    "            shipment_identifier, product, on_time = row\n",
    "            matching_rows = [r for r in shipping_data_2_rows if r[0] == shipment_identifier]\n",
    "            if matching_rows:\n",
    "                origin_warehouse, destination_store, driver_identifier = matching_rows[0][1], matching_rows[0][2],\n",
    "                matching_rows[0][3]\n",
    "                cursor.execute(\"INSERT INTO shipping_data_1 (shipment_identifier, product, on_time, \n",
    "                               origin_warehouse, destination_store) VALUES (?, ?, ?, ?, ?)\",\n",
    "                               (shipment_identifier, product, on_time, origin_warehouse, destination_store))\n",
    "\n",
    "if __name__ == \"__main__\":\n",
    "    conn = sqlite3.connect('shipment_database.db')\n",
    "    cursor = conn.cursor()\n",
    "\n",
    "    create_tables(cursor)  # Create the necessary tables\n",
    "\n",
    "    insert_shipping_data_0(cursor)\n",
    "    insert_shipping_data_2(cursor)\n",
    "\n",
    "    conn.commit()\n",
    "    conn.close()"
   ]
  },
  {
   "cell_type": "code",
   "execution_count": null,
   "id": "b0a63396",
   "metadata": {},
   "outputs": [],
   "source": []
  }
 ],
 "metadata": {
  "kernelspec": {
   "display_name": "Python 3 (ipykernel)",
   "language": "python",
   "name": "python3"
  },
  "language_info": {
   "codemirror_mode": {
    "name": "ipython",
    "version": 3
   },
   "file_extension": ".py",
   "mimetype": "text/x-python",
   "name": "python",
   "nbconvert_exporter": "python",
   "pygments_lexer": "ipython3",
   "version": "3.9.13"
  }
 },
 "nbformat": 4,
 "nbformat_minor": 5
}
